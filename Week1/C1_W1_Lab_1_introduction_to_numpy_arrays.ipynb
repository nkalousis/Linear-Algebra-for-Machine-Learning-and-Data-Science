{
  "cells": [
    {
      "cell_type": "markdown",
      "metadata": {
        "id": "view-in-github",
        "colab_type": "text"
      },
      "source": [
        "<a href=\"https://colab.research.google.com/github/nkalousis/Linear-Algebra-for-Machine-Learning-and-Data-Science/blob/main/Week1/C1_W1_Lab_1_introduction_to_numpy_arrays.ipynb\" target=\"_parent\"><img src=\"https://colab.research.google.com/assets/colab-badge.svg\" alt=\"Open In Colab\"/></a>"
      ]
    },
    {
      "cell_type": "markdown",
      "id": "existing-japanese",
      "metadata": {
        "id": "existing-japanese"
      },
      "source": [
        "# Introduction to Python Matrices and NumPy #\n",
        "\n",
        "Welcome to your first notebook of this specialization! In this notebook, you will use NumPy to create 2-D arrays and easily compute mathematical operations. NumPy (Numerical Python) is an open-source package that is widely used in science and engineering. Feel fre to skip this notebook, if you are already fluent with NumPy.\n",
        "\n",
        "**After this assignment you will be able to:**\n",
        "- Use Jupyter Notebook and its features.\n",
        "- Use NumPy functions to create arrays and NumPy array operations.\n",
        "- Use indexing, and slicing for 2-D arrays.\n",
        "- Find the shape of an array, reshape, and stack horizontally and vertically.\n",
        "\n",
        "**Instructions**\n",
        "- You will be using Python 3.\n",
        "- Follow along the cells using `Shift`+`Enter`. Alternatively, you can press `Run` in the menu."
      ]
    },
    {
      "cell_type": "markdown",
      "id": "indie-lithuania",
      "metadata": {
        "id": "indie-lithuania"
      },
      "source": [
        "## Table of Contents ##\n",
        "[About Jupyter Notebooks](#0)\n",
        "- [1 - Basics of NumPy](#1)\n",
        "    - [1.1 - Packages](#1-1)\n",
        "    - [1.2 - Advantages of using NumPy arrays](#1-2)\n",
        "    - [1.3 - How to create NumPy arrays](#1-3)\n",
        "    - [1.4 - More NumPy Arrays](#1-4)\n",
        "- [2 - Multi-dimensional Arrays](#2)\n",
        "    - [2.1 - Finding size, shape, dimension](#2-1)\n",
        "- [3 - Array Math Operations](#3)\n",
        "    - [3.1 - Multiplying vector with a scalar (broadcasting)](#3-1)\n",
        "- [4 - Indexing and Slicing](#4)\n",
        "    - [4.1 - Indexing](#4-1)\n",
        "    - [4.2 - Slicing](#4-2)\n",
        "- [5 - Stacking](#5)\n",
        "- [6 - Exercises](#6)"
      ]
    },
    {
      "cell_type": "markdown",
      "id": "welsh-generic",
      "metadata": {
        "id": "welsh-generic"
      },
      "source": [
        "<a name='0'></a>\n",
        "## About Jupyter Notebooks ##\n",
        "\n",
        "\n",
        "Jupyter Notebooks are interactive coding journals that integrate live code, explanatory text, equations, visualizations and other multimedia resources, all in a single document. As a first exercise, run the test snippet below and the print statement cell for \"Hello World\"."
      ]
    },
    {
      "cell_type": "code",
      "execution_count": 2,
      "id": "expired-interface",
      "metadata": {
        "id": "expired-interface"
      },
      "outputs": [],
      "source": [
        "#Run the \"Hello World\" in the cell below to print \"Hello World\".\n",
        "test = \"Hello World\""
      ]
    },
    {
      "cell_type": "code",
      "execution_count": 3,
      "id": "instrumental-macro",
      "metadata": {
        "scrolled": true,
        "id": "instrumental-macro",
        "outputId": "c3165ed8-21a0-4d94-cb0e-8991eaef5327",
        "colab": {
          "base_uri": "https://localhost:8080/"
        }
      },
      "outputs": [
        {
          "output_type": "stream",
          "name": "stdout",
          "text": [
            "Hello World\n"
          ]
        }
      ],
      "source": [
        "print (test)"
      ]
    },
    {
      "cell_type": "markdown",
      "id": "whole-fundamental",
      "metadata": {
        "id": "whole-fundamental"
      },
      "source": [
        "<a name='1'></a>\n",
        "# 1 - Basics of NumPy #\n",
        "\n",
        "NumPy is the main package for scientific computing in Python. It performs a wide variety of advanced mathematical operations with high efficiency. In this practice lab you will learn several key NumPy functions that will help you in future assignments, such as creating arrays, slicing, indexing, reshaping, and stacking."
      ]
    },
    {
      "cell_type": "markdown",
      "id": "neutral-concern",
      "metadata": {
        "id": "neutral-concern"
      },
      "source": [
        "<a name='1-1'></a>\n",
        "## 1.1 - Packages ##"
      ]
    },
    {
      "cell_type": "markdown",
      "id": "warming-hypothesis",
      "metadata": {
        "id": "warming-hypothesis"
      },
      "source": [
        "Before you get started, you have to import NumPy to load its functions. As you may notice, even though there is no expected output, when you run this cell, the Jupyter Notebook will have imported the package (often referred to as the library) and its functions. Try it for yourself and run the following cell."
      ]
    },
    {
      "cell_type": "code",
      "execution_count": 4,
      "id": "under-hardware",
      "metadata": {
        "id": "under-hardware"
      },
      "outputs": [],
      "source": [
        "import numpy as np"
      ]
    },
    {
      "cell_type": "markdown",
      "id": "entire-entertainment",
      "metadata": {
        "id": "entire-entertainment"
      },
      "source": [
        "<a name='1-2'></a>\n",
        "## 1.2 - Advantages of using NumPy arrays ##"
      ]
    },
    {
      "cell_type": "markdown",
      "id": "skilled-action",
      "metadata": {
        "id": "skilled-action"
      },
      "source": [
        "Arrays are one of the core data structures of the NumPy library, essential for organizing your data. You can think of them as a grid of values, all of the same type. If you have used Python lists before, you may remember that they are convenient, as you can store different data types. However, Python lists are limited in functions and take up more space and time than NumPy arrays.\n",
        "\n",
        "NumPy provides an array object that is much faster and more compact than Python lists. Through its extensive API integration, the library offers many built-in functions that make computing much easier in only a few lines of code. This can be a huge advantage when performing math operations on large data.\n",
        "\n",
        "The array object in NumPy is called `ndarray` meaning 'n-dimensional array'. To begin with, you will use one of the most common array types: the one-dimensional array ('1-D'). A 1-D array represents a standard list of values entirely in one dimension. Remember that in NumPy, all of the elements within the array are of the same type."
      ]
    },
    {
      "cell_type": "code",
      "execution_count": 5,
      "id": "rural-ceiling",
      "metadata": {
        "id": "rural-ceiling",
        "outputId": "c51b2b73-addb-4c1c-c13c-e4a3c6bcbf50",
        "colab": {
          "base_uri": "https://localhost:8080/"
        }
      },
      "outputs": [
        {
          "output_type": "stream",
          "name": "stdout",
          "text": [
            "[10 12]\n"
          ]
        }
      ],
      "source": [
        "one_dimensional_arr = np.array([10, 12])\n",
        "print(one_dimensional_arr)"
      ]
    },
    {
      "cell_type": "markdown",
      "id": "planned-billy",
      "metadata": {
        "id": "planned-billy"
      },
      "source": [
        "<a name='1-3'></a>\n",
        "## 1.3 - How to create NumPy arrays ##"
      ]
    },
    {
      "cell_type": "markdown",
      "id": "dynamic-benjamin",
      "metadata": {
        "id": "dynamic-benjamin"
      },
      "source": [
        "There are several ways to create an array in NumPy. You can create a 1-D array by simply using the function `array()` which takes in a list of values as an argument, and returns a 1-D array."
      ]
    },
    {
      "cell_type": "code",
      "execution_count": 6,
      "id": "single-amplifier",
      "metadata": {
        "id": "single-amplifier",
        "outputId": "c7045282-631c-4495-b2e2-7f1fab3c33ce",
        "colab": {
          "base_uri": "https://localhost:8080/"
        }
      },
      "outputs": [
        {
          "output_type": "stream",
          "name": "stdout",
          "text": [
            "[1 2 3]\n"
          ]
        }
      ],
      "source": [
        "# Create and print a numpy array 'a' containing the elements 1, 2, 3.\n",
        "a = np.array([1, 2, 3])\n",
        "print(a)"
      ]
    },
    {
      "cell_type": "code",
      "source": [],
      "metadata": {
        "id": "qbOho8GkAmsN"
      },
      "id": "qbOho8GkAmsN",
      "execution_count": 6,
      "outputs": []
    },
    {
      "cell_type": "markdown",
      "source": [],
      "metadata": {
        "id": "tKKDYcHxAmQs"
      },
      "id": "tKKDYcHxAmQs"
    },
    {
      "cell_type": "markdown",
      "id": "flexible-palace",
      "metadata": {
        "id": "flexible-palace"
      },
      "source": [
        "Another way to implement an array is using `numpy.arange()`. This function will return an array of evenly spaced values within a given interval. To learn more about the arguments that this function takes, there is a powerful Jupyter Notebooks feature that allows you to access any function's documentation by simply pressing `shift+tab` on your keyboard when clicking on the function. Give it a try for the built-in documentation of `arange()`."
      ]
    },
    {
      "cell_type": "code",
      "execution_count": 7,
      "id": "aggressive-beginning",
      "metadata": {
        "id": "aggressive-beginning",
        "outputId": "90ad07f1-b780-4cea-dfc5-34a1e4dab531",
        "colab": {
          "base_uri": "https://localhost:8080/"
        }
      },
      "outputs": [
        {
          "output_type": "stream",
          "name": "stdout",
          "text": [
            "[0 1 2]\n"
          ]
        }
      ],
      "source": [
        "# Create an array with 3 elements, starting from default number 0.\n",
        "b = np.arange(3)\n",
        "print(b)"
      ]
    },
    {
      "cell_type": "code",
      "execution_count": 8,
      "id": "mineral-assets",
      "metadata": {
        "id": "mineral-assets",
        "outputId": "3a703793-7184-4612-cbfe-b5bcc085f844",
        "colab": {
          "base_uri": "https://localhost:8080/"
        }
      },
      "outputs": [
        {
          "output_type": "stream",
          "name": "stdout",
          "text": [
            "[ 1  4  7 10 13 16 19]\n"
          ]
        }
      ],
      "source": [
        "# Create an array that starts from integer 1, ends at 20, incremented by 3.\n",
        "c = np.arange(1, 20, 3)\n",
        "print(c)"
      ]
    },
    {
      "cell_type": "markdown",
      "id": "little-entrance",
      "metadata": {
        "id": "little-entrance"
      },
      "source": [
        "What if you wanted to create an array with five evenly spaced values in the interval from 0 to 100? As you may notice, here you have 3 parameters that the array should take. The start is the number 0, the end is number 100, and 5 is the number of the elements. NumPy has a function that allows you to do specifically this by using `numpy.linspace()`."
      ]
    },
    {
      "cell_type": "code",
      "execution_count": 9,
      "id": "hispanic-offset",
      "metadata": {
        "id": "hispanic-offset",
        "outputId": "ce0f12e4-dfbf-413f-ac20-6b8f1ddd12fb",
        "colab": {
          "base_uri": "https://localhost:8080/"
        }
      },
      "outputs": [
        {
          "output_type": "stream",
          "name": "stdout",
          "text": [
            "[  0.  25.  50.  75. 100.]\n"
          ]
        }
      ],
      "source": [
        "lin_spaced_arr = np.linspace(0, 100, 5)\n",
        "print(lin_spaced_arr)"
      ]
    },
    {
      "cell_type": "markdown",
      "id": "victorian-norway",
      "metadata": {
        "id": "victorian-norway"
      },
      "source": [
        "Did you notice that the output of the function is presented in the float value form (e.g. \"0. 25. \")? The reason is that the default type for values in the numpy function is a floating point (`np.float64`). You can easily specify your data type using `dtype`. If you accessed the built-in documentation of the functions, you may have noticed that most functions take in an optional parameter `dtype`. In addition to float, Numpy has several other data types such as 'int', and 'char'.\n",
        "\n",
        "To change the type to integers, you need to set the dtype to `int`. You can do so, even with the previous functions. Feel free to try it out and modify the cells to output your prefered data type."
      ]
    },
    {
      "cell_type": "code",
      "execution_count": 10,
      "id": "black-worker",
      "metadata": {
        "scrolled": true,
        "id": "black-worker",
        "outputId": "f861a2c4-acc7-40f0-b155-44bdccbedfc0",
        "colab": {
          "base_uri": "https://localhost:8080/"
        }
      },
      "outputs": [
        {
          "output_type": "stream",
          "name": "stdout",
          "text": [
            "[  0  25  50  75 100]\n"
          ]
        }
      ],
      "source": [
        "lin_spaced_arr_int = np.linspace(0, 100, 5, dtype=int)\n",
        "print(lin_spaced_arr_int)"
      ]
    },
    {
      "cell_type": "code",
      "execution_count": 11,
      "id": "specialized-intellectual",
      "metadata": {
        "id": "specialized-intellectual",
        "outputId": "81e25d54-8d08-4463-9c1c-4d84e8608cd5",
        "colab": {
          "base_uri": "https://localhost:8080/"
        }
      },
      "outputs": [
        {
          "output_type": "stream",
          "name": "stdout",
          "text": [
            "[ 1.  4.  7. 10. 13. 16. 19.]\n"
          ]
        }
      ],
      "source": [
        "c_int = np.arange(1, 20, 3, dtype=float)\n",
        "print(c_int)"
      ]
    },
    {
      "cell_type": "code",
      "execution_count": 12,
      "id": "irish-greeting",
      "metadata": {
        "id": "irish-greeting",
        "outputId": "c5591a00-5725-4e81-d118-1265f0f2902e",
        "colab": {
          "base_uri": "https://localhost:8080/"
        }
      },
      "outputs": [
        {
          "output_type": "stream",
          "name": "stdout",
          "text": [
            "[0. 1. 2.]\n"
          ]
        }
      ],
      "source": [
        "b_float = np.arange(3, dtype=float)\n",
        "print(b_float)"
      ]
    },
    {
      "cell_type": "code",
      "execution_count": 13,
      "id": "visible-logic",
      "metadata": {
        "id": "visible-logic",
        "outputId": "15967fe7-3185-4dfd-9a82-68713d2b1e86",
        "colab": {
          "base_uri": "https://localhost:8080/"
        }
      },
      "outputs": [
        {
          "output_type": "stream",
          "name": "stdout",
          "text": [
            "['Welcome to Math for ML!']\n",
            "<U23\n"
          ]
        }
      ],
      "source": [
        "char_arr = np.array(['Welcome to Math for ML!'])\n",
        "print(char_arr)\n",
        "print(char_arr.dtype) # Prints the data type of the array"
      ]
    },
    {
      "cell_type": "markdown",
      "id": "korean-identity",
      "metadata": {
        "id": "korean-identity"
      },
      "source": [
        "Did you notice that the output of the data type of the `char_arr` array is `<U23`?\n",
        "This means that the string (`'Welcome to Math for ML!'`) is less than a 23-character (23) unicode string (`U`) on a little-endian architecture. You can learn more about data types [here](https://docs.scipy.org/doc/numpy-1.13.0/reference/arrays.dtypes.html)."
      ]
    },
    {
      "cell_type": "markdown",
      "id": "ready-backup",
      "metadata": {
        "id": "ready-backup"
      },
      "source": [
        "<a name='1-4'></a>\n",
        "## 1.4 - More NumPy Arrays ##\n",
        "\n",
        "One of the advantages of using NumPy is that you can easily create arrays with built-in functions such as:\n",
        "- `numpy.ones()` - Returns a new array setting values to one.\n",
        "- `numpy.zeros()` - Returns a new array setting values to zero.\n",
        "- `numpy.empty()` - Returns a new uninitialized array.\n",
        "- `numpy.random.rand()` - Returns a new array with values chosen at random."
      ]
    },
    {
      "cell_type": "code",
      "execution_count": 14,
      "id": "prime-gamma",
      "metadata": {
        "id": "prime-gamma",
        "outputId": "ddd44234-62c1-47f7-9dc1-8cfac43bae84",
        "colab": {
          "base_uri": "https://localhost:8080/"
        }
      },
      "outputs": [
        {
          "output_type": "stream",
          "name": "stdout",
          "text": [
            "[1. 1. 1.]\n"
          ]
        }
      ],
      "source": [
        "# Return a new array with 3 elements of 1.\n",
        "ones_arr = np.ones(3)\n",
        "print(ones_arr)"
      ]
    },
    {
      "cell_type": "code",
      "execution_count": 15,
      "id": "altered-timer",
      "metadata": {
        "id": "altered-timer",
        "outputId": "ab59020f-47a2-463f-a734-5523f6712463",
        "colab": {
          "base_uri": "https://localhost:8080/"
        }
      },
      "outputs": [
        {
          "output_type": "stream",
          "name": "stdout",
          "text": [
            "[0. 0. 0.]\n"
          ]
        }
      ],
      "source": [
        "# Return a new array with 3 elements of 0.\n",
        "zeros_arr = np.zeros(3)\n",
        "print(zeros_arr)"
      ]
    },
    {
      "cell_type": "code",
      "execution_count": 16,
      "id": "loaded-kansas",
      "metadata": {
        "id": "loaded-kansas",
        "outputId": "d966c9f8-ab55-49ef-d3a4-96200ea50a42",
        "colab": {
          "base_uri": "https://localhost:8080/"
        }
      },
      "outputs": [
        {
          "output_type": "stream",
          "name": "stdout",
          "text": [
            "[0. 0. 0.]\n"
          ]
        }
      ],
      "source": [
        "# Return a new array with 3 elements without initializing entries.\n",
        "empt_arr = np.empty(3)\n",
        "print(empt_arr)"
      ]
    },
    {
      "cell_type": "code",
      "execution_count": 17,
      "id": "color-steps",
      "metadata": {
        "id": "color-steps",
        "outputId": "e52e9853-07bb-4ba4-e2f1-61c1aa022eb7",
        "colab": {
          "base_uri": "https://localhost:8080/"
        }
      },
      "outputs": [
        {
          "output_type": "stream",
          "name": "stdout",
          "text": [
            "[0.11950981 0.50935235 0.87449073]\n"
          ]
        }
      ],
      "source": [
        "# Return a new array with 3 elements between 0 and 1 chosen at random.\n",
        "rand_arr = np.random.rand(3)\n",
        "print(rand_arr)"
      ]
    },
    {
      "cell_type": "markdown",
      "id": "angry-engagement",
      "metadata": {
        "id": "angry-engagement"
      },
      "source": [
        "<a name='2'></a>\n",
        "# 2 - Multidimensional Arrays #\n",
        "With NumPy you can also create arrays with more than one dimension. In the above examples, you encountered 1-D arrays, where you can access their elements using a single index. A multidimensional array has more than one column. Think of a multidimensional array as an excel sheet where each row/column represents a dimension."
      ]
    },
    {
      "cell_type": "markdown",
      "id": "editorial-adobe",
      "metadata": {
        "id": "editorial-adobe"
      },
      "source": [
        "![0_Vh-pKXTJsdL-9FT0.png](attachment:0_Vh-pKXTJsdL-9FT0.png)"
      ]
    },
    {
      "cell_type": "code",
      "execution_count": 18,
      "id": "turned-nevada",
      "metadata": {
        "id": "turned-nevada",
        "outputId": "7e1c5600-65f0-4e01-a6b9-66e24009ae2f",
        "colab": {
          "base_uri": "https://localhost:8080/"
        }
      },
      "outputs": [
        {
          "output_type": "stream",
          "name": "stdout",
          "text": [
            "[[1 2 3]\n",
            " [4 5 6]]\n"
          ]
        }
      ],
      "source": [
        "# Create a 2 dimensional array (2-D)\n",
        "two_dim_arr = np.array([[1,2,3], [4,5,6]])\n",
        "print(two_dim_arr)"
      ]
    },
    {
      "cell_type": "markdown",
      "id": "greater-rescue",
      "metadata": {
        "id": "greater-rescue"
      },
      "source": [
        "An alternative way to create a multidimensional array is by reshaping the initial 1-D array. Using `numpy.reshape()` you can rearrange elements of the previous array into a new shape."
      ]
    },
    {
      "cell_type": "code",
      "execution_count": 19,
      "id": "assisted-traveler",
      "metadata": {
        "id": "assisted-traveler",
        "outputId": "c8c7cc60-9f12-43bd-8e8f-1f51946483a8",
        "colab": {
          "base_uri": "https://localhost:8080/"
        }
      },
      "outputs": [
        {
          "output_type": "stream",
          "name": "stdout",
          "text": [
            "[[1 2 3]\n",
            " [4 5 6]]\n"
          ]
        }
      ],
      "source": [
        "# 1-D array\n",
        "one_dim_arr = np.array([1, 2, 3, 4, 5, 6])\n",
        "\n",
        "# Multi-dimensional array using reshape()\n",
        "multi_dim_arr = np.reshape(\n",
        "                one_dim_arr, # the array to be reshaped\n",
        "               (2,3) # dimensions of the new array\n",
        "              )\n",
        "# Print the new 2-D array with two rows and three columns\n",
        "print(multi_dim_arr)"
      ]
    },
    {
      "cell_type": "markdown",
      "id": "threaded-continent",
      "metadata": {
        "id": "threaded-continent"
      },
      "source": [
        "<!-- exercise: can you create an array with three rows and 4 columns using np.ones . Whats the dimension, size and shape of the array? -->"
      ]
    },
    {
      "cell_type": "markdown",
      "id": "loving-accordance",
      "metadata": {
        "id": "loving-accordance"
      },
      "source": [
        "<a name='2-1'></a>\n",
        "## 2.1 - Finding size, shape, dimension. ##"
      ]
    },
    {
      "cell_type": "markdown",
      "id": "suitable-russian",
      "metadata": {
        "id": "suitable-russian"
      },
      "source": [
        "In the future assignments, you will need to know how to find the size, dimension and shape of an array. Using the NumPy built-in functions you can easily identify the followings:\n",
        "- `ndarray.ndim()` - Returns the number of array dimensions.\n",
        "- `ndarray.shape()` - Returns the shape of the array. Each number in the tuple denotes the lengths of each corresponding dimension.\n",
        "- `ndarray.size()` - Counts the number of elements along a given axis. Returns the size of the array.\n"
      ]
    },
    {
      "cell_type": "code",
      "execution_count": 20,
      "id": "caring-julian",
      "metadata": {
        "id": "caring-julian",
        "outputId": "9da3682b-7269-4fde-ea2a-92d00fc88ce2",
        "colab": {
          "base_uri": "https://localhost:8080/"
        }
      },
      "outputs": [
        {
          "output_type": "execute_result",
          "data": {
            "text/plain": [
              "2"
            ]
          },
          "metadata": {},
          "execution_count": 20
        }
      ],
      "source": [
        "# Dimension of the 2-D array multi_dim_arr\n",
        "multi_dim_arr.ndim"
      ]
    },
    {
      "cell_type": "code",
      "execution_count": 21,
      "id": "canadian-ribbon",
      "metadata": {
        "id": "canadian-ribbon",
        "outputId": "9e31e67e-eb24-46ca-e9a6-7df893b59c2b",
        "colab": {
          "base_uri": "https://localhost:8080/"
        }
      },
      "outputs": [
        {
          "output_type": "execute_result",
          "data": {
            "text/plain": [
              "(2, 3)"
            ]
          },
          "metadata": {},
          "execution_count": 21
        }
      ],
      "source": [
        "# Shape of the 2-D array multi_dim_arr\n",
        "# Returns shape of 2 rows and 3 columns\n",
        "multi_dim_arr.shape"
      ]
    },
    {
      "cell_type": "code",
      "execution_count": 22,
      "id": "infectious-peeing",
      "metadata": {
        "id": "infectious-peeing",
        "outputId": "b93d6669-579e-4468-b3e5-6e4da0e4eb15",
        "colab": {
          "base_uri": "https://localhost:8080/"
        }
      },
      "outputs": [
        {
          "output_type": "execute_result",
          "data": {
            "text/plain": [
              "6"
            ]
          },
          "metadata": {},
          "execution_count": 22
        }
      ],
      "source": [
        "# Size of the array multi_dim_arr\n",
        "# Returns total number of elements\n",
        "multi_dim_arr.size"
      ]
    },
    {
      "cell_type": "markdown",
      "id": "mighty-berry",
      "metadata": {
        "id": "mighty-berry"
      },
      "source": [
        "<a name='3'></a>\n",
        "# 3 - Array Math Operations #\n",
        "In this section, you will see that NumPy allows you to quickly perform elementwise addition, substraction, multiplication and division for both 1-D and multidimensional arrays, also known as matrices. The operations are done using the math symbol for each '+', '-', '*'. Recall that addition of python lists works completely differently as it would add (append) two lists together, thus making a longer list, while subtraction and multiplication of python lists do not work."
      ]
    },
    {
      "cell_type": "code",
      "execution_count": 35,
      "id": "exposed-shower",
      "metadata": {
        "id": "exposed-shower",
        "outputId": "7879372c-6e61-490a-8784-aa03969e66da",
        "colab": {
          "base_uri": "https://localhost:8080/"
        }
      },
      "outputs": [
        {
          "output_type": "stream",
          "name": "stdout",
          "text": [
            "[ 3  7 11]\n",
            "[1 1 1]\n",
            "[ 2 12 30]\n"
          ]
        }
      ],
      "source": [
        "arr_1 = np.array([2, 4, 6])\n",
        "arr_2 = np.array([1, 3, 5])\n",
        "\n",
        "# Adding two 1-D arrays\n",
        "addition = arr_1 + arr_2\n",
        "print(addition)\n",
        "\n",
        "# Subtracting two 1-D arrays\n",
        "subtraction = arr_1 - arr_2\n",
        "print(subtraction)\n",
        "\n",
        "# Multiplying two 1-D arrays element by element\n",
        "multiplication = arr_1 * arr_2\n",
        "print(multiplication)"
      ]
    },
    {
      "cell_type": "markdown",
      "id": "latest-slovenia",
      "metadata": {
        "id": "latest-slovenia"
      },
      "source": [
        "<a name='3-1'></a>\n",
        "## 3.1 - Multiplying vector with a scalar (broadcasting) ##\n",
        "Suppose you wanted to convert miles to kilometers using the NumPy array functions that you've learned so far. You can do this by carrying out an operation between an array (miles) and a single number (the conversion rate which is a scalar). Since, 1 mile = 1.6 km, NumPy computes each multiplication within each cell.\n",
        "\n",
        "This concept is called **broadcasting**, which allows you to perform operations specifically on arrays of different shapes."
      ]
    },
    {
      "cell_type": "code",
      "execution_count": 24,
      "id": "eligible-grant",
      "metadata": {
        "id": "eligible-grant",
        "outputId": "fd7d3aff-fdab-4789-b7b8-df77e341ea1a",
        "colab": {
          "base_uri": "https://localhost:8080/"
        }
      },
      "outputs": [
        {
          "output_type": "execute_result",
          "data": {
            "text/plain": [
              "array([1.6, 3.2])"
            ]
          },
          "metadata": {},
          "execution_count": 24
        }
      ],
      "source": [
        "vector = np.array([1, 2])\n",
        "vector * 1.6"
      ]
    },
    {
      "cell_type": "markdown",
      "id": "seasonal-milwaukee",
      "metadata": {
        "id": "seasonal-milwaukee"
      },
      "source": [
        "![Unknown-2.png](attachment:Unknown-2.png)"
      ]
    },
    {
      "cell_type": "markdown",
      "id": "plain-thumbnail",
      "metadata": {
        "id": "plain-thumbnail"
      },
      "source": [
        "<a name='4'></a>\n",
        "# 4 - Indexing and Slicing #\n",
        "Indexing is very useful as it allows you to select specific elements from an array. It also lets you select entire rows/columns or planes as you'll see in future assignments for multi-dimensional arrays.\n",
        "\n",
        "## 4.1 - Indexing ##\n",
        "Let us select specific elements from the arrays as given."
      ]
    },
    {
      "cell_type": "code",
      "execution_count": 25,
      "id": "sought-amazon",
      "metadata": {
        "id": "sought-amazon",
        "outputId": "86c7a599-9d35-413c-b222-2dc276ddaa30",
        "colab": {
          "base_uri": "https://localhost:8080/"
        }
      },
      "outputs": [
        {
          "output_type": "stream",
          "name": "stdout",
          "text": [
            "3\n",
            "1\n"
          ]
        }
      ],
      "source": [
        "# Select the third element of the array. Remember the counting starts from 0.\n",
        "a = ([1, 2, 3, 4, 5])\n",
        "print(a[2])\n",
        "\n",
        "# Select the first element of the array.\n",
        "print(a[0])"
      ]
    },
    {
      "cell_type": "markdown",
      "id": "australian-pharmacy",
      "metadata": {
        "id": "australian-pharmacy"
      },
      "source": [
        "For multi-dimensional arrays, to index a specific element, think of two indices - i selects the row, and j selects the column."
      ]
    },
    {
      "cell_type": "code",
      "execution_count": 26,
      "id": "characteristic-positive",
      "metadata": {
        "id": "characteristic-positive",
        "outputId": "76703a88-5d25-469f-dd80-546b550194a2",
        "colab": {
          "base_uri": "https://localhost:8080/"
        }
      },
      "outputs": [
        {
          "output_type": "stream",
          "name": "stdout",
          "text": [
            "8\n"
          ]
        }
      ],
      "source": [
        "# Indexing on a 2-D array\n",
        "two_dim = np.array(([1, 2, 3],\n",
        "          [4, 5, 6],\n",
        "          [7, 8, 9]))\n",
        "\n",
        "# Select element number 8 from the 2-D array using indices i, j.\n",
        "print(two_dim[2][1])"
      ]
    },
    {
      "cell_type": "markdown",
      "id": "southwest-warrant",
      "metadata": {
        "id": "southwest-warrant"
      },
      "source": [
        "<a name='4-2'></a>\n",
        "## 4.2 - Slicing ##\n",
        "Slicing gives you a sublist of elements that you specify from the array. The slice notation specifies a start and end value, and copies the list from start up to but not including the end (end-exlusive)."
      ]
    },
    {
      "cell_type": "code",
      "execution_count": 27,
      "id": "moral-police",
      "metadata": {
        "scrolled": true,
        "id": "moral-police",
        "outputId": "0c46b041-5c39-483b-af60-b50f376d6740",
        "colab": {
          "base_uri": "https://localhost:8080/"
        }
      },
      "outputs": [
        {
          "output_type": "stream",
          "name": "stdout",
          "text": [
            "[2, 3, 4]\n"
          ]
        }
      ],
      "source": [
        "# Slice the array a to give the output [2,3,4]\n",
        "sliced_arr = a[1:4]\n",
        "print(sliced_arr)"
      ]
    },
    {
      "cell_type": "code",
      "execution_count": 28,
      "id": "norwegian-fence",
      "metadata": {
        "id": "norwegian-fence",
        "outputId": "cfe768a5-f444-489e-e376-c431ad2029cb",
        "colab": {
          "base_uri": "https://localhost:8080/"
        }
      },
      "outputs": [
        {
          "output_type": "execute_result",
          "data": {
            "text/plain": [
              "array([[1, 2, 3],\n",
              "       [4, 5, 6]])"
            ]
          },
          "metadata": {},
          "execution_count": 28
        }
      ],
      "source": [
        "# Slice the two_dim array to output the first two rows\n",
        "sliced_arr_1 = two_dim[0:2]\n",
        "sliced_arr_1"
      ]
    },
    {
      "cell_type": "code",
      "execution_count": 29,
      "id": "structured-lease",
      "metadata": {
        "id": "structured-lease",
        "outputId": "6e27d513-619f-4d64-a811-73324df81740",
        "colab": {
          "base_uri": "https://localhost:8080/"
        }
      },
      "outputs": [
        {
          "output_type": "stream",
          "name": "stdout",
          "text": [
            "[[4 5 6]\n",
            " [7 8 9]]\n"
          ]
        }
      ],
      "source": [
        "# Similarily, slice the multi-dimensional array two_dim to output the last two rows\n",
        "sliced_two_dim_rows = two_dim[1:4]\n",
        "print(sliced_two_dim_rows)"
      ]
    },
    {
      "cell_type": "code",
      "execution_count": 30,
      "id": "fourth-center",
      "metadata": {
        "id": "fourth-center",
        "outputId": "34d285b3-dac3-4679-a7f1-179a0d6783c2",
        "colab": {
          "base_uri": "https://localhost:8080/"
        }
      },
      "outputs": [
        {
          "output_type": "stream",
          "name": "stdout",
          "text": [
            "[2 5 8]\n"
          ]
        }
      ],
      "source": [
        "sliced_two_dim_cols = two_dim[:,1]\n",
        "print(sliced_two_dim_cols)"
      ]
    },
    {
      "cell_type": "markdown",
      "id": "appointed-worry",
      "metadata": {
        "id": "appointed-worry"
      },
      "source": [
        "<a name='5'></a>\n",
        "# 5 - Stacking #\n",
        "Finally, stacking is a feature of NumPy that leads to increased customization of arrays. It basically means to join two or more arrays, either horizontally or vertically, meaning that it is done along a new axis.\n",
        "\n",
        "- `vstack` - stacks vertically\n",
        "- `hstack` - stacks horizontally\n",
        "- `hsplit` - splits an array into several smaller arrays"
      ]
    },
    {
      "cell_type": "code",
      "execution_count": 31,
      "id": "casual-sacramento",
      "metadata": {
        "id": "casual-sacramento",
        "outputId": "4cdfa333-3eab-438d-b1b2-1d55d6ed965d",
        "colab": {
          "base_uri": "https://localhost:8080/"
        }
      },
      "outputs": [
        {
          "output_type": "stream",
          "name": "stdout",
          "text": [
            "[[1 1]\n",
            " [2 2]]\n",
            "[[3 3]\n",
            " [4 4]]\n"
          ]
        }
      ],
      "source": [
        "a1 = np.array([[1,1],\n",
        "               [2,2]])\n",
        "a2 = np.array([[3,3],\n",
        "              [4,4]])\n",
        "print(a1)\n",
        "print(a2)"
      ]
    },
    {
      "cell_type": "code",
      "execution_count": 32,
      "id": "bizarre-welsh",
      "metadata": {
        "id": "bizarre-welsh",
        "outputId": "070c9af9-34cf-4cf0-85e3-fc7d794c74f7",
        "colab": {
          "base_uri": "https://localhost:8080/"
        }
      },
      "outputs": [
        {
          "output_type": "stream",
          "name": "stdout",
          "text": [
            "[[1 1]\n",
            " [2 2]\n",
            " [3 3]\n",
            " [4 4]]\n"
          ]
        }
      ],
      "source": [
        "# Stack arrays vertically\n",
        "vert_stack = np.vstack((a1, a2))\n",
        "print(vert_stack)\n"
      ]
    },
    {
      "cell_type": "code",
      "execution_count": 33,
      "id": "applicable-tampa",
      "metadata": {
        "id": "applicable-tampa",
        "outputId": "85edfc01-2736-4296-d341-3a269f5e94e9",
        "colab": {
          "base_uri": "https://localhost:8080/"
        }
      },
      "outputs": [
        {
          "output_type": "stream",
          "name": "stdout",
          "text": [
            "[[1 1 3 3]\n",
            " [2 2 4 4]]\n"
          ]
        }
      ],
      "source": [
        "# Stack arrays horizontally\n",
        "horz_stack = np.hstack((a1, a2))\n",
        "print(horz_stack)"
      ]
    },
    {
      "cell_type": "code",
      "source": [
        "import ipywidgets as widgets\n",
        "from ipywidgets import interact, Dropdown\n",
        "\n",
        "\n",
        "question1 = \"\\033[1mSelect one of the options given:\"\n",
        "solution1 = {'A':'\\033[91mNot quite. While both functions are used to create empty arrays, np.zeros() is initialized with the value 0.',\n",
        "'B':\"\\033[91mNot quite. np.zeros() is inialized, and it gives an output of 0's.\",\n",
        "'C':\"\\033[91mNot quite. Most often, np.empty() is faster since it is not initialized.\",\n",
        "'D':''' \\033[92mTrue! np.empty() creates an array with uninitialized elements from available memory space and may be faster to execute.'''}\n",
        "\n",
        "\n",
        "\n",
        "def mcq(question, solution):\n",
        "    s = ''\n",
        "#     print(question)\n",
        "    print(\"\\033[1mPlease select the correct option:\")\n",
        "    answer_w = Dropdown(options = solution.keys(), value=None, layout=widgets.Layout(width='25%'))\n",
        "\n",
        "    @interact(Answer = answer_w)\n",
        "    def print_city(Answer):\n",
        "        if(Answer != None):\n",
        "            s = solution[Answer]\n",
        "#             print(\"\\n\")\n",
        "            print(s)"
      ],
      "metadata": {
        "id": "V5ufyHa6jOQG"
      },
      "id": "V5ufyHa6jOQG",
      "execution_count": 37,
      "outputs": []
    },
    {
      "cell_type": "markdown",
      "id": "wanted-society",
      "metadata": {
        "id": "wanted-society"
      },
      "source": [
        "<a name='6'></a>\n",
        "## Exercises ##\n",
        "Well done! Now, from what you learned today, try to answer the following question.\n",
        "\n",
        "### Question 1 ###\n",
        "Is there a difference between `np.zeros()` and `np.empty()`? Select one of the options given:\n",
        "- A. No difference, they both output arrays of zeros.\n",
        "- B. `np.zeros()` is not initialized, but gives an output of zeros.\n",
        "- C. `np.zeros()` is faster to execute than `np.empty()`.\n",
        "- D. `np.empty()` outputs an uninitialized array, but `np.zeros` outputs an initialized array of value zero."
      ]
    },
    {
      "cell_type": "code",
      "execution_count": 40,
      "id": "fitted-architect",
      "metadata": {
        "id": "fitted-architect",
        "outputId": "d541ac16-061c-432d-a933-1566931bf7ea",
        "colab": {
          "base_uri": "https://localhost:8080/",
          "height": 85,
          "referenced_widgets": [
            "e57896e76e004c6ca2bc66803305d558",
            "65bf9dc6a88f4d11a7cc0e890e56b426",
            "6128704b11eb4868ade158105cac6aa4",
            "1690f91505174fe5832d22bf1e5b32c2",
            "74e69980c1424688be95b1380d2ad726",
            "3afbc1f736244783ae622223607a7c82",
            "208814cde9564a9b910a2413c1155425"
          ]
        }
      },
      "outputs": [
        {
          "output_type": "stream",
          "name": "stdout",
          "text": [
            "\u001b[1mPlease select the correct option:\n"
          ]
        },
        {
          "output_type": "display_data",
          "data": {
            "text/plain": [
              "interactive(children=(Dropdown(description='Answer', layout=Layout(width='25%'), options=('A', 'B', 'C', 'D'),…"
            ],
            "application/vnd.jupyter.widget-view+json": {
              "version_major": 2,
              "version_minor": 0,
              "model_id": "e57896e76e004c6ca2bc66803305d558"
            }
          },
          "metadata": {}
        }
      ],
      "source": [
        "# Run this cell to select your answer\n",
        "\n",
        "q1 = mcq(question1, solution1)"
      ]
    },
    {
      "cell_type": "markdown",
      "id": "romance-mining",
      "metadata": {
        "id": "romance-mining"
      },
      "source": [
        "Congratulations on finishing your first notebook of this specialization!"
      ]
    }
  ],
  "metadata": {
    "kernelspec": {
      "display_name": "Python 3",
      "language": "python",
      "name": "python3"
    },
    "language_info": {
      "codemirror_mode": {
        "name": "ipython",
        "version": 3
      },
      "file_extension": ".py",
      "mimetype": "text/x-python",
      "name": "python",
      "nbconvert_exporter": "python",
      "pygments_lexer": "ipython3",
      "version": "3.9.15"
    },
    "vscode": {
      "interpreter": {
        "hash": "56d44d6a8424451b5ce45d1ae0b0b7865dc60710e7f74571dd51dd80d7829ee9"
      }
    },
    "colab": {
      "provenance": [],
      "include_colab_link": true
    },
    "widgets": {
      "application/vnd.jupyter.widget-state+json": {
        "e57896e76e004c6ca2bc66803305d558": {
          "model_module": "@jupyter-widgets/controls",
          "model_name": "VBoxModel",
          "model_module_version": "1.5.0",
          "state": {
            "_dom_classes": [
              "widget-interact"
            ],
            "_model_module": "@jupyter-widgets/controls",
            "_model_module_version": "1.5.0",
            "_model_name": "VBoxModel",
            "_view_count": null,
            "_view_module": "@jupyter-widgets/controls",
            "_view_module_version": "1.5.0",
            "_view_name": "VBoxView",
            "box_style": "",
            "children": [
              "IPY_MODEL_65bf9dc6a88f4d11a7cc0e890e56b426",
              "IPY_MODEL_6128704b11eb4868ade158105cac6aa4"
            ],
            "layout": "IPY_MODEL_1690f91505174fe5832d22bf1e5b32c2"
          }
        },
        "65bf9dc6a88f4d11a7cc0e890e56b426": {
          "model_module": "@jupyter-widgets/controls",
          "model_name": "DropdownModel",
          "model_module_version": "1.5.0",
          "state": {
            "_dom_classes": [],
            "_model_module": "@jupyter-widgets/controls",
            "_model_module_version": "1.5.0",
            "_model_name": "DropdownModel",
            "_options_labels": [
              "A",
              "B",
              "C",
              "D"
            ],
            "_view_count": null,
            "_view_module": "@jupyter-widgets/controls",
            "_view_module_version": "1.5.0",
            "_view_name": "DropdownView",
            "description": "Answer",
            "description_tooltip": null,
            "disabled": false,
            "index": 3,
            "layout": "IPY_MODEL_74e69980c1424688be95b1380d2ad726",
            "style": "IPY_MODEL_3afbc1f736244783ae622223607a7c82"
          }
        },
        "6128704b11eb4868ade158105cac6aa4": {
          "model_module": "@jupyter-widgets/output",
          "model_name": "OutputModel",
          "model_module_version": "1.0.0",
          "state": {
            "_dom_classes": [],
            "_model_module": "@jupyter-widgets/output",
            "_model_module_version": "1.0.0",
            "_model_name": "OutputModel",
            "_view_count": null,
            "_view_module": "@jupyter-widgets/output",
            "_view_module_version": "1.0.0",
            "_view_name": "OutputView",
            "layout": "IPY_MODEL_208814cde9564a9b910a2413c1155425",
            "msg_id": "",
            "outputs": [
              {
                "output_type": "stream",
                "name": "stdout",
                "text": [
                  " \u001b[92mTrue! np.empty() creates an array with uninitialized elements from available memory space and may be faster to execute.\n"
                ]
              }
            ]
          }
        },
        "1690f91505174fe5832d22bf1e5b32c2": {
          "model_module": "@jupyter-widgets/base",
          "model_name": "LayoutModel",
          "model_module_version": "1.2.0",
          "state": {
            "_model_module": "@jupyter-widgets/base",
            "_model_module_version": "1.2.0",
            "_model_name": "LayoutModel",
            "_view_count": null,
            "_view_module": "@jupyter-widgets/base",
            "_view_module_version": "1.2.0",
            "_view_name": "LayoutView",
            "align_content": null,
            "align_items": null,
            "align_self": null,
            "border": null,
            "bottom": null,
            "display": null,
            "flex": null,
            "flex_flow": null,
            "grid_area": null,
            "grid_auto_columns": null,
            "grid_auto_flow": null,
            "grid_auto_rows": null,
            "grid_column": null,
            "grid_gap": null,
            "grid_row": null,
            "grid_template_areas": null,
            "grid_template_columns": null,
            "grid_template_rows": null,
            "height": null,
            "justify_content": null,
            "justify_items": null,
            "left": null,
            "margin": null,
            "max_height": null,
            "max_width": null,
            "min_height": null,
            "min_width": null,
            "object_fit": null,
            "object_position": null,
            "order": null,
            "overflow": null,
            "overflow_x": null,
            "overflow_y": null,
            "padding": null,
            "right": null,
            "top": null,
            "visibility": null,
            "width": null
          }
        },
        "74e69980c1424688be95b1380d2ad726": {
          "model_module": "@jupyter-widgets/base",
          "model_name": "LayoutModel",
          "model_module_version": "1.2.0",
          "state": {
            "_model_module": "@jupyter-widgets/base",
            "_model_module_version": "1.2.0",
            "_model_name": "LayoutModel",
            "_view_count": null,
            "_view_module": "@jupyter-widgets/base",
            "_view_module_version": "1.2.0",
            "_view_name": "LayoutView",
            "align_content": null,
            "align_items": null,
            "align_self": null,
            "border": null,
            "bottom": null,
            "display": null,
            "flex": null,
            "flex_flow": null,
            "grid_area": null,
            "grid_auto_columns": null,
            "grid_auto_flow": null,
            "grid_auto_rows": null,
            "grid_column": null,
            "grid_gap": null,
            "grid_row": null,
            "grid_template_areas": null,
            "grid_template_columns": null,
            "grid_template_rows": null,
            "height": null,
            "justify_content": null,
            "justify_items": null,
            "left": null,
            "margin": null,
            "max_height": null,
            "max_width": null,
            "min_height": null,
            "min_width": null,
            "object_fit": null,
            "object_position": null,
            "order": null,
            "overflow": null,
            "overflow_x": null,
            "overflow_y": null,
            "padding": null,
            "right": null,
            "top": null,
            "visibility": null,
            "width": "25%"
          }
        },
        "3afbc1f736244783ae622223607a7c82": {
          "model_module": "@jupyter-widgets/controls",
          "model_name": "DescriptionStyleModel",
          "model_module_version": "1.5.0",
          "state": {
            "_model_module": "@jupyter-widgets/controls",
            "_model_module_version": "1.5.0",
            "_model_name": "DescriptionStyleModel",
            "_view_count": null,
            "_view_module": "@jupyter-widgets/base",
            "_view_module_version": "1.2.0",
            "_view_name": "StyleView",
            "description_width": ""
          }
        },
        "208814cde9564a9b910a2413c1155425": {
          "model_module": "@jupyter-widgets/base",
          "model_name": "LayoutModel",
          "model_module_version": "1.2.0",
          "state": {
            "_model_module": "@jupyter-widgets/base",
            "_model_module_version": "1.2.0",
            "_model_name": "LayoutModel",
            "_view_count": null,
            "_view_module": "@jupyter-widgets/base",
            "_view_module_version": "1.2.0",
            "_view_name": "LayoutView",
            "align_content": null,
            "align_items": null,
            "align_self": null,
            "border": null,
            "bottom": null,
            "display": null,
            "flex": null,
            "flex_flow": null,
            "grid_area": null,
            "grid_auto_columns": null,
            "grid_auto_flow": null,
            "grid_auto_rows": null,
            "grid_column": null,
            "grid_gap": null,
            "grid_row": null,
            "grid_template_areas": null,
            "grid_template_columns": null,
            "grid_template_rows": null,
            "height": null,
            "justify_content": null,
            "justify_items": null,
            "left": null,
            "margin": null,
            "max_height": null,
            "max_width": null,
            "min_height": null,
            "min_width": null,
            "object_fit": null,
            "object_position": null,
            "order": null,
            "overflow": null,
            "overflow_x": null,
            "overflow_y": null,
            "padding": null,
            "right": null,
            "top": null,
            "visibility": null,
            "width": null
          }
        }
      }
    }
  },
  "nbformat": 4,
  "nbformat_minor": 5
}